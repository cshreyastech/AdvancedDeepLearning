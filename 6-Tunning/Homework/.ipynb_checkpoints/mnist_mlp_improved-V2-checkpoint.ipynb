{
 "cells": [
  {
   "cell_type": "code",
   "execution_count": 33,
   "metadata": {},
   "outputs": [],
   "source": [
    "import numpy\n",
    "import keras\n",
    "from keras.datasets import mnist\n",
    "from keras.models import Sequential\n",
    "from keras.layers import Dense, Conv2D, Dropout, Flatten, MaxPooling2D\n",
    "from keras.layers import Dropout\n",
    "from keras.utils import np_utils\n",
    "from keras.optimizers import RMSprop, Adam"
   ]
  },
  {
   "cell_type": "code",
   "execution_count": 13,
   "metadata": {},
   "outputs": [],
   "source": [
    "# fix random seed for reproducibility\n",
    "seed = 7\n",
    "numpy.random.seed(seed)\n",
    "# load data\n",
    "#(X_train, y_train), (X_test, y_test) = mnist.load_data()\n",
    "(x_train, y_train), (x_test, y_test) = mnist.load_data(path='mnist.npz')\n",
    "# flatten 28*28 images to a 784 vector for each image\n",
    "num_pixels = x_train.shape[1] * x_train.shape[2]\n",
    "x_train = x_train.reshape(x_train.shape[0], num_pixels).astype('float32')\n",
    "x_test = x_test.reshape(x_test.shape[0], num_pixels).astype('float32')\n",
    "# normalize inputs from 0-255 to 0-1\n",
    "x_train = x_train / 255\n",
    "x_test = x_test / 255\n",
    "# one hot encode outputs\n",
    "y_train = np_utils.to_categorical(y_train)\n",
    "y_test = np_utils.to_categorical(y_test)\n",
    "num_classes = y_test.shape[1]"
   ]
  },
  {
   "cell_type": "code",
   "execution_count": 39,
   "metadata": {},
   "outputs": [],
   "source": [
    "# define baseline model\n",
    "def baseline_model():\n",
    "    # create model\n",
    "    model = Sequential()\n",
    "    model.add(Dense(512, activation='relu', input_shape=(784,)))\n",
    "    model.add(Dropout(0.2))\n",
    "    model.add(Dense(512, activation='relu'))\n",
    "    model.add(Dropout(0.2))\n",
    "    model.add(Dense(256, activation='relu'))\n",
    "    model.add(Dropout(0.2))\n",
    "    model.add(Dense(num_classes, activation='softmax'))\n",
    "    # Compile model\n",
    "    model.compile(loss='categorical_crossentropy', optimizer='RMSprop', metrics=['accuracy'])\n",
    "    return model"
   ]
  },
  {
   "cell_type": "code",
   "execution_count": 41,
   "metadata": {},
   "outputs": [
    {
     "name": "stdout",
     "output_type": "stream",
     "text": [
      "Train on 60000 samples, validate on 10000 samples\n",
      "Epoch 1/10\n",
      "3s - loss: 0.2711 - acc: 0.9165 - val_loss: 0.1206 - val_acc: 0.9637\n",
      "Epoch 2/10\n",
      "3s - loss: 0.1129 - acc: 0.9666 - val_loss: 0.1202 - val_acc: 0.9642\n",
      "Epoch 3/10\n",
      "3s - loss: 0.0875 - acc: 0.9746 - val_loss: 0.0811 - val_acc: 0.9764\n",
      "Epoch 4/10\n",
      "3s - loss: 0.0742 - acc: 0.9789 - val_loss: 0.0873 - val_acc: 0.9769\n",
      "Epoch 5/10\n",
      "3s - loss: 0.0619 - acc: 0.9829 - val_loss: 0.0792 - val_acc: 0.9811\n",
      "Epoch 6/10\n",
      "3s - loss: 0.0550 - acc: 0.9843 - val_loss: 0.0958 - val_acc: 0.9791\n",
      "Epoch 7/10\n",
      "3s - loss: 0.0520 - acc: 0.9858 - val_loss: 0.0939 - val_acc: 0.9803\n",
      "Epoch 8/10\n",
      "3s - loss: 0.0489 - acc: 0.9875 - val_loss: 0.0944 - val_acc: 0.9809\n",
      "Epoch 9/10\n",
      "3s - loss: 0.0476 - acc: 0.9882 - val_loss: 0.0875 - val_acc: 0.9828\n",
      "Epoch 10/10\n",
      "3s - loss: 0.0434 - acc: 0.9891 - val_loss: 0.1000 - val_acc: 0.9812\n",
      "Improved Error: 1.88%\n"
     ]
    }
   ],
   "source": [
    "# build the model\n",
    "model = baseline_model()\n",
    "# Fit the model\n",
    "model.fit(x_train, y_train, validation_data=(x_test, y_test), nb_epoch=10, batch_size=128, verbose=2)\n",
    "\n",
    "# Final evaluation of the model\n",
    "scores = model.evaluate(X_test, y_test, verbose=0)\n",
    "print(\"Improved Error: %.2f%%\" % (100-scores[1]*100))"
   ]
  },
  {
   "cell_type": "code",
   "execution_count": null,
   "metadata": {},
   "outputs": [],
   "source": []
  }
 ],
 "metadata": {
  "kernelspec": {
   "display_name": "Python 3",
   "language": "python",
   "name": "python3"
  },
  "language_info": {
   "codemirror_mode": {
    "name": "ipython",
    "version": 3
   },
   "file_extension": ".py",
   "mimetype": "text/x-python",
   "name": "python",
   "nbconvert_exporter": "python",
   "pygments_lexer": "ipython3",
   "version": "3.6.0"
  }
 },
 "nbformat": 4,
 "nbformat_minor": 2
}
